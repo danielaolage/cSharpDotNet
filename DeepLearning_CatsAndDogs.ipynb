{
  "nbformat": 4,
  "nbformat_minor": 0,
  "metadata": {
    "colab": {
      "name": "DeepLearning_CatsAndDogs.ipynb",
      "private_outputs": true,
      "provenance": [],
      "collapsed_sections": [],
      "authorship_tag": "ABX9TyPK9+IeA4LxquuPWMhmX+Fs",
      "include_colab_link": true
    },
    "kernelspec": {
      "name": "python3",
      "display_name": "Python 3"
    },
    "language_info": {
      "name": "python"
    },
    "accelerator": "GPU"
  },
  "cells": [
    {
      "cell_type": "markdown",
      "metadata": {
        "id": "view-in-github",
        "colab_type": "text"
      },
      "source": [
        "<a href=\"https://colab.research.google.com/github/danielaolage/cSharpDotNet/blob/master/DeepLearning_CatsAndDogs.ipynb\" target=\"_parent\"><img src=\"https://colab.research.google.com/assets/colab-badge.svg\" alt=\"Open In Colab\"/></a>"
      ]
    },
    {
      "cell_type": "markdown",
      "metadata": {
        "id": "7GCblGUcC57o"
      },
      "source": [
        "\n",
        "# Classificação de imagens de gatos e cães"
      ]
    },
    {
      "cell_type": "code",
      "metadata": {
        "id": "rwrFS0Y-tIWa"
      },
      "source": [
        "!wget --no-check-certificate \\\n",
        "    https://storage.googleapis.com/mledu-datasets/cats_and_dogs_filtered.zip \\\n",
        "    -O /tmp/cats_and_dogs_filtered.zip"
      ],
      "execution_count": null,
      "outputs": []
    },
    {
      "cell_type": "markdown",
      "metadata": {
        "id": "5qR3r4LH5zsP"
      },
      "source": [
        "Importa as bibliotecas"
      ]
    },
    {
      "cell_type": "code",
      "metadata": {
        "id": "8PqiKbO7C6dW"
      },
      "source": [
        "import os\n",
        "import zipfile\n",
        "import cv2         # Importa biblioteca OpenCV\n",
        "import numpy as np # Importa numpy\n",
        "import requests    # Importa biblioteca para requisições\n",
        "from PIL import Image  # Importa biblioteca de image\n",
        "from io import BytesIO # Importa biblioteca de io\n",
        "from google.colab.patches import cv2_imshow # Importa módulo para imprimir imagem"
      ],
      "execution_count": null,
      "outputs": []
    },
    {
      "cell_type": "markdown",
      "metadata": {
        "id": "Rw-q6IUL55B3"
      },
      "source": [
        "Extrai os dados para uma pasta temporária"
      ]
    },
    {
      "cell_type": "code",
      "metadata": {
        "id": "xb7IryNitrpa"
      },
      "source": [
        "local_zip = '/tmp/cats_and_dogs_filtered.zip'\n",
        "zip_ref = zipfile.ZipFile(local_zip, 'r')\n",
        "zip_ref.extractall('/tmp')\n",
        "zip_ref.close()"
      ],
      "execution_count": null,
      "outputs": []
    },
    {
      "cell_type": "markdown",
      "metadata": {
        "id": "5ZK_uMKW1qXA"
      },
      "source": [
        "O conteúdo do .zip é extraído para o diretório base / tmp / cats_and_dogs_filtered, que contém subdiretórios de treinamento e validação para os conjuntos de dados de treinamento e validação."
      ]
    },
    {
      "cell_type": "code",
      "metadata": {
        "id": "nL03vDhoYkM6"
      },
      "source": [
        "base_dir = '/tmp/cats_and_dogs_filtered' \n",
        "\n",
        "train_dir = os.path.join(base_dir, 'train') \n",
        "validation_dir = os.path.join(base_dir, 'validation') \n",
        "\n",
        "train_cats_dir = os.path.join(train_dir, 'cats') # Diretório com imagens de treinamentos de gatos \n",
        "train_dogs_dir = os.path.join(train_dir, 'dogs') # Diretório com imagens de treinamentos de cachorros \n",
        "validation_cats_dir = os.path.join(validation_dir, 'cats') # Diretório com imagens de teste de gatos \n",
        "validation_dogs_dir = os.path.join(validation_dir, 'dogs') # Diretório com imagens de teste de cachorros"
      ],
      "execution_count": null,
      "outputs": []
    },
    {
      "cell_type": "markdown",
      "metadata": {
        "id": "oT8tYxzY2BBB"
      },
      "source": [
        "Exibe o número total de imagens por diretório"
      ]
    },
    {
      "cell_type": "code",
      "metadata": {
        "id": "PvqYpWYrzTHA"
      },
      "source": [
        "print('total training cat images:', len(os.listdir(train_cats_dir)))\n",
        "print('total training dog images:', len(os.listdir(train_dogs_dir)))\n",
        "print('total validation cat images:', len(os.listdir(validation_cats_dir)))\n",
        "print('total validation dog images:', len(os.listdir(validation_dogs_dir)))"
      ],
      "execution_count": null,
      "outputs": []
    },
    {
      "cell_type": "code",
      "metadata": {
        "id": "KP2nnQqZMoj0"
      },
      "source": [
        "train_datagen = ImageDataGenerator(zoom_range=0.15,width_shift_range=0.2,height_shift_range=0.2,shear_range=0.15)\n",
        "test_datagen = ImageDataGenerator()"
      ],
      "execution_count": null,
      "outputs": []
    },
    {
      "cell_type": "code",
      "metadata": {
        "id": "2v0sIiDaMueP"
      },
      "source": [
        "train_generator = train_datagen.flow_from_directory(train_dir,target_size=(224, 224),batch_size=32,shuffle=True,class_mode='binary')\n",
        "test_generator = test_datagen.flow_from_directory(validation_dir,target_size=(224,224),batch_size=32,shuffle=False,class_mode='binary')"
      ],
      "execution_count": null,
      "outputs": []
    }
  ]
}